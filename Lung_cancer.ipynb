{
 "cells": [
  {
   "cell_type": "code",
   "execution_count": 1,
   "metadata": {},
   "outputs": [],
   "source": [
    "import pandas as pd\n",
    "import numpy as np\n",
    "import matplotlib.pyplot as plt\n",
    "import seaborn as sns\n",
    "from sklearn.model_selection import train_test_split,cross_val_score,GridSearchCV\n",
    "from sklearn.metrics import accuracy_score,classification_report,confusion_matrix"
   ]
  },
  {
   "cell_type": "code",
   "execution_count": 2,
   "metadata": {},
   "outputs": [],
   "source": [
    "import warnings\n",
    "warnings.filterwarnings('ignore')"
   ]
  },
  {
   "cell_type": "code",
   "execution_count": 3,
   "metadata": {},
   "outputs": [],
   "source": [
    "data=pd.read_csv('C:/Users/hp/Downloads/Github/lung-cancer.csv',names=range(0,58))\n",
    "lung=pd.DataFrame(data)"
   ]
  },
  {
   "cell_type": "code",
   "execution_count": 4,
   "metadata": {},
   "outputs": [
    {
     "data": {
      "text/html": [
       "<div>\n",
       "<style scoped>\n",
       "    .dataframe tbody tr th:only-of-type {\n",
       "        vertical-align: middle;\n",
       "    }\n",
       "\n",
       "    .dataframe tbody tr th {\n",
       "        vertical-align: top;\n",
       "    }\n",
       "\n",
       "    .dataframe thead th {\n",
       "        text-align: right;\n",
       "    }\n",
       "</style>\n",
       "<table border=\"1\" class=\"dataframe\">\n",
       "  <thead>\n",
       "    <tr style=\"text-align: right;\">\n",
       "      <th></th>\n",
       "      <th>0</th>\n",
       "      <th>1</th>\n",
       "      <th>2</th>\n",
       "      <th>3</th>\n",
       "      <th>4</th>\n",
       "      <th>5</th>\n",
       "      <th>6</th>\n",
       "      <th>7</th>\n",
       "      <th>8</th>\n",
       "      <th>9</th>\n",
       "      <th>...</th>\n",
       "      <th>48</th>\n",
       "      <th>49</th>\n",
       "      <th>50</th>\n",
       "      <th>51</th>\n",
       "      <th>52</th>\n",
       "      <th>53</th>\n",
       "      <th>54</th>\n",
       "      <th>55</th>\n",
       "      <th>56</th>\n",
       "      <th>57</th>\n",
       "    </tr>\n",
       "  </thead>\n",
       "  <tbody>\n",
       "    <tr>\n",
       "      <td>0</td>\n",
       "      <td>1</td>\n",
       "      <td>0</td>\n",
       "      <td>3</td>\n",
       "      <td>0</td>\n",
       "      <td>?</td>\n",
       "      <td>0</td>\n",
       "      <td>2</td>\n",
       "      <td>2</td>\n",
       "      <td>2</td>\n",
       "      <td>1</td>\n",
       "      <td>...</td>\n",
       "      <td>2</td>\n",
       "      <td>2</td>\n",
       "      <td>2</td>\n",
       "      <td>2</td>\n",
       "      <td>1</td>\n",
       "      <td>1</td>\n",
       "      <td>1</td>\n",
       "      <td>2</td>\n",
       "      <td>2</td>\n",
       "      <td>NaN</td>\n",
       "    </tr>\n",
       "    <tr>\n",
       "      <td>1</td>\n",
       "      <td>1</td>\n",
       "      <td>0</td>\n",
       "      <td>3</td>\n",
       "      <td>3</td>\n",
       "      <td>1</td>\n",
       "      <td>0</td>\n",
       "      <td>3</td>\n",
       "      <td>1</td>\n",
       "      <td>3</td>\n",
       "      <td>1</td>\n",
       "      <td>...</td>\n",
       "      <td>2</td>\n",
       "      <td>2</td>\n",
       "      <td>2</td>\n",
       "      <td>2</td>\n",
       "      <td>2</td>\n",
       "      <td>2</td>\n",
       "      <td>1</td>\n",
       "      <td>2</td>\n",
       "      <td>2</td>\n",
       "      <td>NaN</td>\n",
       "    </tr>\n",
       "    <tr>\n",
       "      <td>2</td>\n",
       "      <td>1</td>\n",
       "      <td>0</td>\n",
       "      <td>3</td>\n",
       "      <td>3</td>\n",
       "      <td>2</td>\n",
       "      <td>0</td>\n",
       "      <td>3</td>\n",
       "      <td>3</td>\n",
       "      <td>3</td>\n",
       "      <td>1</td>\n",
       "      <td>...</td>\n",
       "      <td>2</td>\n",
       "      <td>2</td>\n",
       "      <td>2</td>\n",
       "      <td>2</td>\n",
       "      <td>2</td>\n",
       "      <td>2</td>\n",
       "      <td>2</td>\n",
       "      <td>1</td>\n",
       "      <td>2</td>\n",
       "      <td>NaN</td>\n",
       "    </tr>\n",
       "    <tr>\n",
       "      <td>3</td>\n",
       "      <td>1</td>\n",
       "      <td>0</td>\n",
       "      <td>2</td>\n",
       "      <td>3</td>\n",
       "      <td>2</td>\n",
       "      <td>1</td>\n",
       "      <td>3</td>\n",
       "      <td>3</td>\n",
       "      <td>3</td>\n",
       "      <td>1</td>\n",
       "      <td>...</td>\n",
       "      <td>2</td>\n",
       "      <td>2</td>\n",
       "      <td>2</td>\n",
       "      <td>2</td>\n",
       "      <td>2</td>\n",
       "      <td>2</td>\n",
       "      <td>2</td>\n",
       "      <td>2</td>\n",
       "      <td>2</td>\n",
       "      <td>NaN</td>\n",
       "    </tr>\n",
       "    <tr>\n",
       "      <td>4</td>\n",
       "      <td>1</td>\n",
       "      <td>0</td>\n",
       "      <td>3</td>\n",
       "      <td>2</td>\n",
       "      <td>1</td>\n",
       "      <td>1</td>\n",
       "      <td>3</td>\n",
       "      <td>3</td>\n",
       "      <td>3</td>\n",
       "      <td>2</td>\n",
       "      <td>...</td>\n",
       "      <td>2</td>\n",
       "      <td>2</td>\n",
       "      <td>2</td>\n",
       "      <td>2</td>\n",
       "      <td>2</td>\n",
       "      <td>2</td>\n",
       "      <td>1</td>\n",
       "      <td>2</td>\n",
       "      <td>2</td>\n",
       "      <td>NaN</td>\n",
       "    </tr>\n",
       "  </tbody>\n",
       "</table>\n",
       "<p>5 rows × 58 columns</p>\n",
       "</div>"
      ],
      "text/plain": [
       "   0   1   2   3  4   5   6   7   8   9   ...  48  49  50  51  52  53  54  55  \\\n",
       "0   1   0   3   0  ?   0   2   2   2   1  ...   2   2   2   2   1   1   1   2   \n",
       "1   1   0   3   3  1   0   3   1   3   1  ...   2   2   2   2   2   2   1   2   \n",
       "2   1   0   3   3  2   0   3   3   3   1  ...   2   2   2   2   2   2   2   1   \n",
       "3   1   0   2   3  2   1   3   3   3   1  ...   2   2   2   2   2   2   2   2   \n",
       "4   1   0   3   2  1   1   3   3   3   2  ...   2   2   2   2   2   2   1   2   \n",
       "\n",
       "   56  57  \n",
       "0   2 NaN  \n",
       "1   2 NaN  \n",
       "2   2 NaN  \n",
       "3   2 NaN  \n",
       "4   2 NaN  \n",
       "\n",
       "[5 rows x 58 columns]"
      ]
     },
     "execution_count": 4,
     "metadata": {},
     "output_type": "execute_result"
    }
   ],
   "source": [
    "lung.head()"
   ]
  },
  {
   "cell_type": "code",
   "execution_count": 5,
   "metadata": {},
   "outputs": [],
   "source": [
    "lung.drop(57,axis=1,inplace=True)"
   ]
  },
  {
   "cell_type": "code",
   "execution_count": 6,
   "metadata": {},
   "outputs": [
    {
     "data": {
      "text/plain": [
       "1    15\n",
       "2    12\n",
       "?     4\n",
       "0     1\n",
       "Name: 4, dtype: int64"
      ]
     },
     "execution_count": 6,
     "metadata": {},
     "output_type": "execute_result"
    }
   ],
   "source": [
    "lung[4].value_counts()"
   ]
  },
  {
   "cell_type": "code",
   "execution_count": 7,
   "metadata": {},
   "outputs": [],
   "source": [
    "lung[4]=lung[4].replace('?',3)"
   ]
  },
  {
   "cell_type": "code",
   "execution_count": 8,
   "metadata": {},
   "outputs": [],
   "source": [
    "lung[4]=pd.to_numeric(lung[4])"
   ]
  },
  {
   "cell_type": "code",
   "execution_count": 9,
   "metadata": {},
   "outputs": [
    {
     "data": {
      "text/plain": [
       "2    18\n",
       "1    11\n",
       "3     2\n",
       "?     1\n",
       "Name: 38, dtype: int64"
      ]
     },
     "execution_count": 9,
     "metadata": {},
     "output_type": "execute_result"
    }
   ],
   "source": [
    "lung[38].value_counts()"
   ]
  },
  {
   "cell_type": "code",
   "execution_count": 10,
   "metadata": {},
   "outputs": [],
   "source": [
    "lung[38].replace(['?',3],inplace=True)"
   ]
  },
  {
   "cell_type": "code",
   "execution_count": 11,
   "metadata": {},
   "outputs": [],
   "source": [
    "lung[38]=lung[38].astype(int)"
   ]
  },
  {
   "cell_type": "code",
   "execution_count": 12,
   "metadata": {},
   "outputs": [
    {
     "data": {
      "text/plain": [
       "dtype('int32')"
      ]
     },
     "execution_count": 12,
     "metadata": {},
     "output_type": "execute_result"
    }
   ],
   "source": [
    "lung[38].dtypes"
   ]
  },
  {
   "cell_type": "code",
   "execution_count": 13,
   "metadata": {},
   "outputs": [],
   "source": [
    "x=lung.iloc[:,1:]\n",
    "y=lung.iloc[:,0]"
   ]
  },
  {
   "cell_type": "code",
   "execution_count": 14,
   "metadata": {},
   "outputs": [
    {
     "data": {
      "text/plain": [
       "1     5.656854\n",
       "2    -0.076060\n",
       "3    -0.818578\n",
       "4     0.377450\n",
       "5     1.021592\n",
       "6    -0.317258\n",
       "7    -0.212952\n",
       "8    -0.855212\n",
       "9     3.283157\n",
       "10    0.982000\n",
       "11    1.020376\n",
       "12    0.845483\n",
       "13    0.116250\n",
       "14   -0.317258\n",
       "15   -0.390348\n",
       "16    1.505686\n",
       "17   -2.380876\n",
       "18   -2.380876\n",
       "19    1.315641\n",
       "20   -0.196939\n",
       "21   -1.212283\n",
       "22   -1.681134\n",
       "23   -1.212283\n",
       "24    1.738471\n",
       "25    0.095544\n",
       "26    0.116250\n",
       "27    0.849385\n",
       "28    0.026913\n",
       "29   -0.197956\n",
       "30    1.359999\n",
       "31   -0.684394\n",
       "32   -0.684394\n",
       "33   -2.126866\n",
       "34    0.498290\n",
       "35    0.693421\n",
       "36   -0.157939\n",
       "37    0.509512\n",
       "38    0.095544\n",
       "39   -0.111604\n",
       "40    0.000000\n",
       "41    0.507452\n",
       "42    0.214303\n",
       "43    0.985388\n",
       "44   -0.325290\n",
       "45   -0.285911\n",
       "46   -0.371443\n",
       "47    3.795046\n",
       "48    3.795046\n",
       "49    0.000000\n",
       "50    0.000000\n",
       "51    0.000000\n",
       "52   -0.751711\n",
       "53   -0.751711\n",
       "54   -0.264542\n",
       "55   -1.681134\n",
       "56   -1.021592\n",
       "dtype: float64"
      ]
     },
     "execution_count": 14,
     "metadata": {},
     "output_type": "execute_result"
    }
   ],
   "source": [
    "x.skew()"
   ]
  },
  {
   "cell_type": "code",
   "execution_count": 15,
   "metadata": {},
   "outputs": [],
   "source": [
    "for col in x.columns:\n",
    "    if x[col].skew()>0.55:\n",
    "        x[col]=np.log1p(x[col])\n",
    "    if x[col].skew()<-0.55:\n",
    "        x[col]=np.square(x[col])"
   ]
  },
  {
   "cell_type": "code",
   "execution_count": 16,
   "metadata": {},
   "outputs": [],
   "source": [
    "from sklearn.decomposition import PCA\n",
    "pca=PCA(n_components=20)\n",
    "x=pca.fit_transform(x)"
   ]
  },
  {
   "cell_type": "code",
   "execution_count": 17,
   "metadata": {},
   "outputs": [],
   "source": [
    "from sklearn.preprocessing import StandardScaler\n",
    "scale=StandardScaler()\n",
    "x=scale.fit_transform(x)"
   ]
  },
  {
   "cell_type": "code",
   "execution_count": 18,
   "metadata": {},
   "outputs": [],
   "source": [
    "def random(alg):\n",
    "    r_state=0\n",
    "    for r_score in range(43,101):\n",
    "        x_train,x_test,y_train,y_test=train_test_split(x,y,test_size=0.33,random_state=r_score)\n",
    "        alg.fit(x_train,y_train)\n",
    "        pred=alg.predict(x_test)\n",
    "        accuracy=accuracy_score(y_test,pred)\n",
    "        if accuracy > r_state:\n",
    "            r_state=accuracy\n",
    "            final_r=r_score\n",
    "    print(r_state,'at',final_r)"
   ]
  },
  {
   "cell_type": "code",
   "execution_count": 19,
   "metadata": {},
   "outputs": [],
   "source": [
    "def model(alg):\n",
    "    ml=alg\n",
    "    ml.fit(x_train,y_train)\n",
    "    pred=ml.predict(x_test)\n",
    "    print(accuracy_score(y_test,pred))\n",
    "    print(confusion_matrix(y_test,pred))\n",
    "    print(classification_report(y_test,pred))"
   ]
  },
  {
   "cell_type": "code",
   "execution_count": 20,
   "metadata": {},
   "outputs": [],
   "source": [
    "def cross_val(alg):\n",
    "    score=cross_val_score(alg,x,y,cv=5)\n",
    "    print(score)\n",
    "    print(score.mean())\n",
    "    print(score.std())"
   ]
  },
  {
   "cell_type": "code",
   "execution_count": 21,
   "metadata": {},
   "outputs": [
    {
     "name": "stdout",
     "output_type": "stream",
     "text": [
      "0.7272727272727273 at 65\n"
     ]
    }
   ],
   "source": [
    "from sklearn.linear_model import LogisticRegression\n",
    "lr=LogisticRegression()\n",
    "random(lr)"
   ]
  },
  {
   "cell_type": "code",
   "execution_count": 22,
   "metadata": {},
   "outputs": [
    {
     "name": "stdout",
     "output_type": "stream",
     "text": [
      "0.7272727272727273\n",
      "[[2 2 0]\n",
      " [0 3 1]\n",
      " [0 0 3]]\n",
      "              precision    recall  f1-score   support\n",
      "\n",
      "           1       1.00      0.50      0.67         4\n",
      "           2       0.60      0.75      0.67         4\n",
      "           3       0.75      1.00      0.86         3\n",
      "\n",
      "    accuracy                           0.73        11\n",
      "   macro avg       0.78      0.75      0.73        11\n",
      "weighted avg       0.79      0.73      0.72        11\n",
      "\n"
     ]
    }
   ],
   "source": [
    "x_train,x_test,y_train,y_test=train_test_split(x,y,test_size=0.33,random_state=65)\n",
    "model(lr)"
   ]
  },
  {
   "cell_type": "code",
   "execution_count": 23,
   "metadata": {},
   "outputs": [
    {
     "name": "stdout",
     "output_type": "stream",
     "text": [
      "[0.42857143 0.14285714 0.42857143 0.33333333 0.4       ]\n",
      "0.3466666666666667\n",
      "0.10768224019125767\n"
     ]
    }
   ],
   "source": [
    "cross_val(lr)"
   ]
  },
  {
   "cell_type": "code",
   "execution_count": 24,
   "metadata": {},
   "outputs": [
    {
     "name": "stdout",
     "output_type": "stream",
     "text": [
      "0.8181818181818182 at 58\n"
     ]
    }
   ],
   "source": [
    "from sklearn.tree import DecisionTreeClassifier\n",
    "dtc=DecisionTreeClassifier()\n",
    "random(dtc)"
   ]
  },
  {
   "cell_type": "code",
   "execution_count": 25,
   "metadata": {},
   "outputs": [
    {
     "name": "stdout",
     "output_type": "stream",
     "text": [
      "0.2727272727272727\n",
      "[[1 3 0]\n",
      " [0 1 3]\n",
      " [0 2 1]]\n",
      "              precision    recall  f1-score   support\n",
      "\n",
      "           1       1.00      0.25      0.40         4\n",
      "           2       0.17      0.25      0.20         4\n",
      "           3       0.25      0.33      0.29         3\n",
      "\n",
      "    accuracy                           0.27        11\n",
      "   macro avg       0.47      0.28      0.30        11\n",
      "weighted avg       0.49      0.27      0.30        11\n",
      "\n"
     ]
    }
   ],
   "source": [
    "model(dtc)"
   ]
  },
  {
   "cell_type": "code",
   "execution_count": 26,
   "metadata": {},
   "outputs": [
    {
     "name": "stdout",
     "output_type": "stream",
     "text": [
      "[0.57142857 0.71428571 0.42857143 0.66666667 0.2       ]\n",
      "0.5161904761904762\n",
      "0.18578997236718547\n"
     ]
    }
   ],
   "source": [
    "cross_val(dtc)"
   ]
  },
  {
   "cell_type": "code",
   "execution_count": 27,
   "metadata": {},
   "outputs": [
    {
     "data": {
      "text/plain": [
       "{'n_neighbors': 2}"
      ]
     },
     "execution_count": 27,
     "metadata": {},
     "output_type": "execute_result"
    }
   ],
   "source": [
    "from sklearn.neighbors import KNeighborsClassifier\n",
    "knn=KNeighborsClassifier()\n",
    "parameters={'n_neighbors':range(1,20)}\n",
    "grid=GridSearchCV(knn,parameters,cv=5)\n",
    "grid.fit(x,y)\n",
    "grid.best_params_"
   ]
  },
  {
   "cell_type": "code",
   "execution_count": 28,
   "metadata": {},
   "outputs": [
    {
     "name": "stdout",
     "output_type": "stream",
     "text": [
      "0.7272727272727273 at 83\n"
     ]
    }
   ],
   "source": [
    "knn=KNeighborsClassifier(n_neighbors=2)\n",
    "random(knn)"
   ]
  },
  {
   "cell_type": "code",
   "execution_count": 29,
   "metadata": {},
   "outputs": [
    {
     "name": "stdout",
     "output_type": "stream",
     "text": [
      "0.45454545454545453\n",
      "[[2 2 0]\n",
      " [0 3 1]\n",
      " [1 2 0]]\n",
      "              precision    recall  f1-score   support\n",
      "\n",
      "           1       0.67      0.50      0.57         4\n",
      "           2       0.43      0.75      0.55         4\n",
      "           3       0.00      0.00      0.00         3\n",
      "\n",
      "    accuracy                           0.45        11\n",
      "   macro avg       0.37      0.42      0.37        11\n",
      "weighted avg       0.40      0.45      0.41        11\n",
      "\n"
     ]
    }
   ],
   "source": [
    "model(knn)"
   ]
  },
  {
   "cell_type": "code",
   "execution_count": 30,
   "metadata": {},
   "outputs": [
    {
     "name": "stdout",
     "output_type": "stream",
     "text": [
      "[0.28571429 0.28571429 0.71428571 0.33333333 0.4       ]\n",
      "0.4038095238095238\n",
      "0.16079169211737357\n"
     ]
    }
   ],
   "source": [
    "cross_val(knn)"
   ]
  },
  {
   "cell_type": "code",
   "execution_count": 31,
   "metadata": {},
   "outputs": [
    {
     "data": {
      "text/plain": [
       "{'C': 1, 'kernel': 'rbf'}"
      ]
     },
     "execution_count": 31,
     "metadata": {},
     "output_type": "execute_result"
    }
   ],
   "source": [
    "from sklearn.svm import SVC\n",
    "svm=SVC()\n",
    "parameters={'kernel':['rbf','linear'],'C':[1,10,100]}\n",
    "grid=GridSearchCV(svm,parameters,cv=5)\n",
    "grid.fit(x,y)\n",
    "grid.best_params_"
   ]
  },
  {
   "cell_type": "code",
   "execution_count": 32,
   "metadata": {},
   "outputs": [
    {
     "name": "stdout",
     "output_type": "stream",
     "text": [
      "0.6363636363636364 at 94\n"
     ]
    }
   ],
   "source": [
    "svm=SVC(kernel='rbf')\n",
    "random(svm)"
   ]
  },
  {
   "cell_type": "code",
   "execution_count": 33,
   "metadata": {},
   "outputs": [
    {
     "name": "stdout",
     "output_type": "stream",
     "text": [
      "0.36363636363636365\n",
      "[[0 4 0]\n",
      " [0 4 0]\n",
      " [0 3 0]]\n",
      "              precision    recall  f1-score   support\n",
      "\n",
      "           1       0.00      0.00      0.00         4\n",
      "           2       0.36      1.00      0.53         4\n",
      "           3       0.00      0.00      0.00         3\n",
      "\n",
      "    accuracy                           0.36        11\n",
      "   macro avg       0.12      0.33      0.18        11\n",
      "weighted avg       0.13      0.36      0.19        11\n",
      "\n"
     ]
    }
   ],
   "source": [
    "model(svm)"
   ]
  },
  {
   "cell_type": "code",
   "execution_count": 34,
   "metadata": {},
   "outputs": [
    {
     "name": "stdout",
     "output_type": "stream",
     "text": [
      "0.5\n",
      "{'n_estimators': 10}\n"
     ]
    }
   ],
   "source": [
    "from sklearn.ensemble import RandomForestClassifier\n",
    "rf=RandomForestClassifier()\n",
    "parameters={'n_estimators':[10,100,500,1000]}\n",
    "gr=GridSearchCV(rf,parameters,cv=5)\n",
    "gr.fit(x,y)\n",
    "print(gr.best_score_)\n",
    "print(gr.best_params_)"
   ]
  },
  {
   "cell_type": "code",
   "execution_count": 35,
   "metadata": {},
   "outputs": [
    {
     "name": "stdout",
     "output_type": "stream",
     "text": [
      "0.7272727272727273 at 82\n"
     ]
    }
   ],
   "source": [
    "rf=RandomForestClassifier(n_estimators=10)\n",
    "random(rf)"
   ]
  },
  {
   "cell_type": "code",
   "execution_count": 36,
   "metadata": {},
   "outputs": [
    {
     "name": "stdout",
     "output_type": "stream",
     "text": [
      "0.18181818181818182\n",
      "[[1 2 1]\n",
      " [2 1 1]\n",
      " [0 3 0]]\n",
      "              precision    recall  f1-score   support\n",
      "\n",
      "           1       0.33      0.25      0.29         4\n",
      "           2       0.17      0.25      0.20         4\n",
      "           3       0.00      0.00      0.00         3\n",
      "\n",
      "    accuracy                           0.18        11\n",
      "   macro avg       0.17      0.17      0.16        11\n",
      "weighted avg       0.18      0.18      0.18        11\n",
      "\n"
     ]
    }
   ],
   "source": [
    "model(rf)"
   ]
  },
  {
   "cell_type": "code",
   "execution_count": 37,
   "metadata": {},
   "outputs": [
    {
     "data": {
      "text/plain": [
       "['lr_lung_cancer.pkl']"
      ]
     },
     "execution_count": 37,
     "metadata": {},
     "output_type": "execute_result"
    }
   ],
   "source": [
    "from sklearn.externals import joblib\n",
    "joblib.dump(lr,'lr_lung_cancer.pkl')"
   ]
  },
  {
   "cell_type": "code",
   "execution_count": null,
   "metadata": {},
   "outputs": [],
   "source": []
  }
 ],
 "metadata": {
  "kernelspec": {
   "display_name": "Python 3",
   "language": "python",
   "name": "python3"
  },
  "language_info": {
   "codemirror_mode": {
    "name": "ipython",
    "version": 3
   },
   "file_extension": ".py",
   "mimetype": "text/x-python",
   "name": "python",
   "nbconvert_exporter": "python",
   "pygments_lexer": "ipython3",
   "version": "3.7.4"
  }
 },
 "nbformat": 4,
 "nbformat_minor": 2
}
